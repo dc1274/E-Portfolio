{
  "nbformat": 4,
  "nbformat_minor": 0,
  "metadata": {
    "colab": {
      "provenance": [],
      "authorship_tag": "ABX9TyNiMByLkPJh323H+FFaXRyl",
      "include_colab_link": true
    },
    "kernelspec": {
      "name": "python3",
      "display_name": "Python 3"
    },
    "language_info": {
      "name": "python"
    }
  },
  "cells": [
    {
      "cell_type": "markdown",
      "metadata": {
        "id": "view-in-github",
        "colab_type": "text"
      },
      "source": [
        "<a href=\"https://colab.research.google.com/github/dc1274/eportfolio/blob/source/Namedirectory.ipynb\" target=\"_parent\"><img src=\"https://colab.research.google.com/assets/colab-badge.svg\" alt=\"Open In Colab\"/></a>"
      ]
    },
    {
      "cell_type": "code",
      "execution_count": null,
      "metadata": {
        "id": "IA2MZQXazq8O"
      },
      "outputs": [],
      "source": [
        "\n",
        "def menu () :\n",
        "\n",
        " while True:\n",
        "\n",
        "    print()\n",
        "    print('''Name Directory\n",
        "\n",
        "    Select a number for the action you want to be performed:\n",
        "\n",
        "    1. View full directory\n",
        "    2. Add name to directory\n",
        "    3. Delete name from directory\n",
        "    4. Search from name on directory\n",
        "    5. Sort list in alphabetical order\n",
        "    ''')\n",
        "    selection = input(\"Make selection: \")\n",
        "    # this is to make the starting interface so that the user will be able to perform any of the tasks.\n",
        "\n",
        "    if selection == \"1\":\n",
        "      display()\n",
        "\n",
        "    elif selection == \"2\":\n",
        "      adding()\n",
        "\n",
        "    elif selection == \"3\":\n",
        "      removing()\n",
        "\n",
        "    elif selection == \"4\":\n",
        "      searching()\n",
        "\n",
        "    elif selection == \"5\":\n",
        "      sorting() \n",
        "\n",
        "    else :\n",
        "      print(\"Invalid selection\") \n",
        "#this is the message incase a number selection is made that does not have an action assigned \n",
        "\n",
        "Name_Directory = [\"John\", \"Larry\", \"David\", \"Craig\", \"George\"]\n",
        "#this is the inital list of names in the directory \n",
        "\n",
        "def display() :\n",
        "  print()\n",
        "  print(\"- - NAMES - -\")\n",
        "  for a in Name_Directory:\n",
        "    print( a)\n",
        "#loop that prints each item in the list\n",
        "\n",
        "\n",
        "def adding():\n",
        "  item = input(\"Enter name to add to the directory: \")\n",
        "  Name_Directory.append(item)\n",
        "  print(item + \" has been add to directory\")\n",
        "#this will add items and display a confirmation message with the name inputed\n",
        "\n",
        "\n",
        "def removing():\n",
        "  item = input(\"Enter name you wish to delete from the directory: \")\n",
        "  Name_Directory.remove(item)\n",
        "  print(item + \" has been removed from directory\")\n",
        "#this will remove items that are already on the directory and display the name thta has been removed as confirmation\n",
        "\n",
        "def searching():\n",
        "  item = input(\"search for name: \")\n",
        "  if item in Name_Directory:\n",
        "   print(\"this name is already in directory\")\n",
        "  else:\n",
        "   print(\"This name not found, please add using action 2.\")\n",
        "#this searches the strings in the list for the same string and confirmed or denies if it is on the list already. with a prompt to add if not currently on list \n",
        "\n",
        "  \n",
        "def sorting():\n",
        "  Name_Directory.sort()\n",
        "  print(Name_Directory)\n",
        "#this sorts the directory list by alphabetical order\n",
        "\n",
        "\n",
        "\n",
        "menu()\n"
      ]
    }
  ]
}